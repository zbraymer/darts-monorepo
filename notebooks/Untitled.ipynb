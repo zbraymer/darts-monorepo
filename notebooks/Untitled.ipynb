{
 "cells": [
  {
   "cell_type": "code",
   "execution_count": 4,
   "id": "f497e6ab-ed3f-458d-8da4-f257f3ce9a73",
   "metadata": {},
   "outputs": [],
   "source": [
    "import requests\n",
    "import subprocess\n",
    "import time\n",
    "\n",
    "DOCKER_CONTAINER_NAME = \"dartboard-api-container\"\n",
    "DOCKER_IMAGE_NAME = \"dartboard-api:latest\"\n",
    "API_URL = \"http://localhost:8000\"\n",
    "\n",
    "def is_api_running() -> bool:\n",
    "    \"\"\"Check if the API is running by sending a request.\"\"\"\n",
    "    try:\n",
    "        response = requests.get(API_URL)\n",
    "        return response.status_code == 200\n",
    "    except requests.ConnectionError:\n",
    "        return False\n",
    "\n",
    "def is_container_running() -> bool:\n",
    "    \"\"\"Check if the Docker container is running.\"\"\"\n",
    "    result = subprocess.run(\n",
    "        [\"docker\", \"ps\", \"--filter\", f\"name={DOCKER_CONTAINER_NAME}\", \"--format\", \"{{.Names}}\"],\n",
    "        capture_output=True,\n",
    "        text=True\n",
    "    )\n",
    "    return DOCKER_CONTAINER_NAME in result.stdout.strip()\n",
    "\n",
    "def start_container():\n",
    "    \"\"\"Start the Docker container if it is not running.\"\"\"\n",
    "    if is_container_running():\n",
    "        print(f\"Container '{DOCKER_CONTAINER_NAME}' is already running.\")\n",
    "        return\n",
    "\n",
    "    print(f\"Starting container '{DOCKER_CONTAINER_NAME}'...\")\n",
    "    subprocess.run([\"docker\", \"run\", \"-d\", \"-p\", \"8000:8000\", \"--name\", DOCKER_CONTAINER_NAME, DOCKER_IMAGE_NAME])\n",
    "    \n",
    "    # Wait for the API to become available\n",
    "    for _ in range(10):\n",
    "        time.sleep(2)\n",
    "        if is_api_running():\n",
    "            print(\"API is running!\")\n",
    "            return\n",
    "\n",
    "    print(\"Failed to start API.\")\n",
    "\n",
    "def stop_container():\n",
    "    \"\"\"Stop the Docker container if it is running.\"\"\"\n",
    "    if is_container_running():\n",
    "        print(f\"Stopping container '{DOCKER_CONTAINER_NAME}'...\")\n",
    "        subprocess.run([\"docker\", \"stop\", DOCKER_CONTAINER_NAME])\n",
    "        subprocess.run([\"docker\", \"rm\", DOCKER_CONTAINER_NAME])\n",
    "    else:\n",
    "        print(f\"Container '{DOCKER_CONTAINER_NAME}' is not running.\")\n",
    "\n",
    "\n"
   ]
  },
  {
   "cell_type": "code",
   "execution_count": 5,
   "id": "99c768dd-d731-4b44-881e-104012189ad9",
   "metadata": {},
   "outputs": [
    {
     "name": "stdout",
     "output_type": "stream",
     "text": [
      "Container 'dartboard-api-container' is already running.\n",
      "API is accessible at: http://localhost:8000\n",
      "Response: {\"message\":\"Welcome to the Dart API!\"}\n"
     ]
    }
   ],
   "source": [
    "\n",
    "start_container()\n",
    "\n",
    "# Check API response\n",
    "if is_api_running():\n",
    "    print(\"API is accessible at:\", API_URL)\n",
    "    response = requests.get(API_URL)\n",
    "    print(\"Response:\", response.text)\n",
    "else:\n",
    "    print(\"API is not responding.\")\n",
    "\n"
   ]
  },
  {
   "cell_type": "code",
   "execution_count": 7,
   "id": "e615baa9-9113-4a62-96c2-e8a8893f69a9",
   "metadata": {},
   "outputs": [
    {
     "name": "stdout",
     "output_type": "stream",
     "text": [
      "Response JSON: {'multiplier': 3, 'zone': 20, 'score': 60}\n"
     ]
    }
   ],
   "source": [
    "# Send a GET request to the endpoint\n",
    "response = requests.get(f\"{API_URL}/scores/throw\", params={'radius':0.6, 'angle':90})\n",
    "\n",
    "# Check the response\n",
    "if response.status_code == 200:\n",
    "    # Success: Print the response JSON\n",
    "    print(\"Response JSON:\", response.json())\n",
    "else:\n",
    "    # Error: Print the status code and error message\n",
    "    print(\"Error:\", response.status_code, response.text)"
   ]
  },
  {
   "cell_type": "code",
   "execution_count": 8,
   "id": "b1f5aab7-7b34-473b-ba74-1bae69b82ffb",
   "metadata": {},
   "outputs": [
    {
     "name": "stdout",
     "output_type": "stream",
     "text": [
      "Stopping container 'dartboard-api-container'...\n",
      "dartboard-api-container\n",
      "dartboard-api-container\n"
     ]
    }
   ],
   "source": [
    "# Stop the container after 10 seconds (for demo purposes)\n",
    "time.sleep(10)\n",
    "stop_container()"
   ]
  },
  {
   "cell_type": "code",
   "execution_count": null,
   "id": "d0b59d1c-ec8b-44b7-b9f3-0cf478fcb393",
   "metadata": {},
   "outputs": [],
   "source": []
  }
 ],
 "metadata": {
  "kernelspec": {
   "display_name": "Python 3 (ipykernel)",
   "language": "python",
   "name": "python3"
  },
  "language_info": {
   "codemirror_mode": {
    "name": "ipython",
    "version": 3
   },
   "file_extension": ".py",
   "mimetype": "text/x-python",
   "name": "python",
   "nbconvert_exporter": "python",
   "pygments_lexer": "ipython3",
   "version": "3.11.5"
  }
 },
 "nbformat": 4,
 "nbformat_minor": 5
}
