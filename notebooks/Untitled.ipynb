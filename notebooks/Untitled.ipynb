{
  "cells": [
    {
      "cell_type": "code",
      "execution_count": 1,
      "id": "60302eba-b2bc-444e-ab8a-a7c2941e54c6",
      "metadata": {},
      "outputs": [],
      "source": [
        "from games.utils import constants as c\n",
        "from games.utils.schemas import Throw, ThrowTriplet\n",
        "\n"
      ]
    },
    {
      "cell_type": "code",
      "execution_count": 6,
      "id": "a752297a-ef52-448e-b1c9-69a07d3ae457",
      "metadata": {},
      "outputs": [],
      "source": [
        "t = Throw(0.67,90)"
      ]
    },
    {
      "cell_type": "code",
      "execution_count": 7,
      "id": "b78428aa-7ac8-4988-9f0f-8ba1a7e61647",
      "metadata": {},
      "outputs": [
        {
          "data": {
            "text/plain": [
              "ThrowScore(multiplier=2, zone=20, score=40)"
            ]
          },
          "execution_count": 7,
          "metadata": {},
          "output_type": "execute_result"
        }
      ],
      "source": [
        "t.get_score()"
      ]
    },
    {
      "cell_type": "code",
      "execution_count": null,
      "id": "91fee297-1f82-4558-8287-9ac34902f3d6",
      "metadata": {},
      "outputs": [],
      "source": []
    },
    {
      "cell_type": "code",
      "execution_count": null,
      "id": "c6d32cb3-c7bc-4c0f-b604-074853be8cdb",
      "metadata": {},
      "outputs": [],
      "source": []
    },
    {
      "cell_type": "code",
      "execution_count": null,
      "id": "4683354a-b475-4352-a7da-10db23f8ee24",
      "metadata": {},
      "outputs": [],
      "source": []
    },
    {
      "cell_type": "code",
      "execution_count": null,
      "id": "35ec6653-4a0a-4e33-ac17-25027300e82a",
      "metadata": {},
      "outputs": [],
      "source": []
    }
  ],
  "metadata": {
    "kernelspec": {
      "display_name": "Python 3 (ipykernel)",
      "language": "python",
      "name": "python3"
    },
    "language_info": {
      "codemirror_mode": {
        "name": "ipython",
        "version": 3
      },
      "file_extension": ".py",
      "mimetype": "text/x-python",
      "name": "python",
      "nbconvert_exporter": "python",
      "pygments_lexer": "ipython3",
      "version": "3.13.2"
    }
  },
  "nbformat": 4,
  "nbformat_minor": 5
}
