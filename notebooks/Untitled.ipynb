{
  "cells": [
    {
      "cell_type": "code",
      "execution_count": 1,
      "id": "60302eba-b2bc-444e-ab8a-a7c2941e54c6",
      "metadata": {},
      "outputs": [],
      "source": [
        "from dataclasses import dataclass\n"
      ]
    },
    {
      "cell_type": "code",
      "execution_count": 2,
      "id": "a752297a-ef52-448e-b1c9-69a07d3ae457",
      "metadata": {},
      "outputs": [
        {
          "ename": "ModuleNotFoundError",
          "evalue": "No module named 'games'",
          "output_type": "error",
          "traceback": [
            "\u001b[0;31m---------------------------------------------------------------------------\u001b[0m",
            "\u001b[0;31mModuleNotFoundError\u001b[0m                       Traceback (most recent call last)",
            "Cell \u001b[0;32mIn[2], line 1\u001b[0m\n\u001b[0;32m----> 1\u001b[0m \u001b[38;5;28;01mimport\u001b[39;00m\u001b[38;5;250m \u001b[39m\u001b[38;5;21;01mgames\u001b[39;00m\n",
            "\u001b[0;31mModuleNotFoundError\u001b[0m: No module named 'games'"
          ]
        }
      ],
      "source": [
        "import games"
      ]
    },
    {
      "cell_type": "code",
      "execution_count": null,
      "id": "b78428aa-7ac8-4988-9f0f-8ba1a7e61647",
      "metadata": {},
      "outputs": [],
      "source": [
        "@dataclass\n",
        "class Countdown:\n",
        "    start: int\n",
        "\n",
        "    def count_throw(\n",
        "    "
      ]
    },
    {
      "cell_type": "code",
      "execution_count": null,
      "id": "91fee297-1f82-4558-8287-9ac34902f3d6",
      "metadata": {},
      "outputs": [],
      "source": []
    },
    {
      "cell_type": "code",
      "execution_count": null,
      "id": "c6d32cb3-c7bc-4c0f-b604-074853be8cdb",
      "metadata": {},
      "outputs": [],
      "source": [
        "print(sys.path)"
      ]
    },
    {
      "cell_type": "code",
      "execution_count": null,
      "id": "4683354a-b475-4352-a7da-10db23f8ee24",
      "metadata": {},
      "outputs": [],
      "source": []
    }
  ],
  "metadata": {
    "kernelspec": {
      "display_name": "Python 3 (ipykernel)",
      "language": "python",
      "name": "python3"
    },
    "language_info": {
      "codemirror_mode": {
        "name": "ipython",
        "version": 3
      },
      "file_extension": ".py",
      "mimetype": "text/x-python",
      "name": "python",
      "nbconvert_exporter": "python",
      "pygments_lexer": "ipython3",
      "version": "3.13.2"
    }
  },
  "nbformat": 4,
  "nbformat_minor": 5
}
