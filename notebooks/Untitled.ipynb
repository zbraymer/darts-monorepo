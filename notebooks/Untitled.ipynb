{
  "cells": [
    {
      "cell_type": "code",
      "execution_count": 1,
      "id": "60302eba-b2bc-444e-ab8a-a7c2941e54c6",
      "metadata": {},
      "outputs": [],
      "source": [
        "from games.utils import constants as c\n",
        "from games.utils.schemas import Throw, ThrowTriplet\n",
        "\n"
      ]
    },
    {
      "cell_type": "code",
      "execution_count": 6,
      "id": "a752297a-ef52-448e-b1c9-69a07d3ae457",
      "metadata": {},
      "outputs": [],
      "source": [
        "t = Throw(0.67,90)"
      ]
    },
    {
      "cell_type": "code",
      "execution_count": 7,
      "id": "b78428aa-7ac8-4988-9f0f-8ba1a7e61647",
      "metadata": {},
      "outputs": [
        {
          "data": {
            "text/plain": [
              "ThrowScore(multiplier=2, zone=20, score=40)"
            ]
          },
          "execution_count": 7,
          "metadata": {},
          "output_type": "execute_result"
        }
      ],
      "source": [
        "t.get_score()"
      ]
    },
    {
      "cell_type": "code",
      "execution_count": 38,
      "id": "91fee297-1f82-4558-8287-9ac34902f3d6",
      "metadata": {},
      "outputs": [],
      "source": [
        "class CountdownGame:\n",
        "    \"\"\"Class to manage a game of Countdown darts.\"\"\"\n",
        "\n",
        "    DOUBLE_VALUES = {2 * i for i in range(1, 21)} | {50}  # All doubles + bullseye\n",
        "    SCORES = {\n",
        "        \"S\": range(1, 21),\n",
        "        \"D\": DOUBLE_VALUES,\n",
        "        \"T\": {3 * i for i in range(1, 21)},\n",
        "        \"B\": {25, 50},\n",
        "    }\n",
        "\n",
        "    def __init__(self, start_score: int = 501, double_in: bool = False, double_out: bool = False):\n",
        "        self.start_score = start_score\n",
        "        self.double_in = double_in\n",
        "        self.double_out = double_out\n",
        "        self.current_score = start_score\n",
        "        self.in_play = not double_in\n",
        "        self.throws: list[tuple[str, int]] = []  # List of (multiplier, value)\n",
        "\n",
        "    def process_triplet(self, triplet: ThrowTriplet):\n",
        "        for throw in triplet:\n",
        "            score = throw.get_score()\n",
        "            if not self.in_play:\n",
        "                # check if its a double, if it is turn on in_play\n",
        "                if score.multiplier == 2:\n",
        "                    self.in_play = True\n",
        "\n",
        "\n",
        "            # if the throw score is less than the current score, we can safely subtract\n",
        "            # MIGHT NEED TO CONSIDER IF THIS LEAVES REMAINDER OF 1!!!\n",
        "            if self.in_play and score.score < self.current_score:\n",
        "                self.current_score -= score.score\n",
        "\n",
        "            if self.in_play and score.score > self.current_score:\n",
        "                return False\n",
        "\n",
        "            if self.in_play and score.score == self.currrent_score:\n",
        "                if self.double_out and score.multiplier != 2:\n",
        "                    return True\n",
        "                \n",
        "            \n",
        "\n",
        "\n",
        "            # Things to consider at the start of each iteration:\n",
        "            # 1. Do I need to double in?\n",
        "            # 2. Is the score of this throw greater than the score I have left\n",
        "            # 3. Do I need to Double out?\n",
        "\n"
      ]
    },
    {
      "cell_type": "code",
      "execution_count": 35,
      "id": "c6d32cb3-c7bc-4c0f-b604-074853be8cdb",
      "metadata": {},
      "outputs": [],
      "source": [
        "cd = CountdownGame(double_in=True)"
      ]
    },
    {
      "cell_type": "code",
      "execution_count": 36,
      "id": "4683354a-b475-4352-a7da-10db23f8ee24",
      "metadata": {},
      "outputs": [],
      "source": [
        "t1 = Throw(radius=0.30, angle=4)\n",
        "t2 = Throw(radius=0.67, angle=90) # Double 20\n",
        "t3 = Throw(radius=0.50, angle=74)\n",
        "trip = ThrowTriplet([t1, t2, t3])"
      ]
    },
    {
      "cell_type": "code",
      "execution_count": null,
      "id": "35ec6653-4a0a-4e33-ac17-25027300e82a",
      "metadata": {},
      "outputs": [],
      "source": []
    },
    {
      "cell_type": "code",
      "execution_count": 37,
      "id": "aa44cfda-b9f2-496e-83ff-b2fc0b84d716",
      "metadata": {},
      "outputs": [
        {
          "name": "stdout",
          "output_type": "stream",
          "text": [
            "461\n",
            "461\n"
          ]
        }
      ],
      "source": [
        "cd.process_triplet(trip)"
      ]
    },
    {
      "cell_type": "code",
      "execution_count": 33,
      "id": "8de2c206-0d1f-41b0-9c7e-ee588c78babe",
      "metadata": {},
      "outputs": [
        {
          "data": {
            "text/plain": [
              "True"
            ]
          },
          "execution_count": 33,
          "metadata": {},
          "output_type": "execute_result"
        }
      ],
      "source": [
        "cd.in_play"
      ]
    },
    {
      "cell_type": "code",
      "execution_count": null,
      "id": "58f9f94a-92f3-4c26-8b23-1328c3d2a655",
      "metadata": {},
      "outputs": [],
      "source": []
    }
  ],
  "metadata": {
    "kernelspec": {
      "display_name": "Python 3 (ipykernel)",
      "language": "python",
      "name": "python3"
    },
    "language_info": {
      "codemirror_mode": {
        "name": "ipython",
        "version": 3
      },
      "file_extension": ".py",
      "mimetype": "text/x-python",
      "name": "python",
      "nbconvert_exporter": "python",
      "pygments_lexer": "ipython3",
      "version": "3.13.2"
    }
  },
  "nbformat": 4,
  "nbformat_minor": 5
}
