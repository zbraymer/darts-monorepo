{
  "cells": [
    {
      "cell_type": "code",
      "execution_count": 1,
      "id": "60302eba-b2bc-444e-ab8a-a7c2941e54c6",
      "metadata": {},
      "outputs": [],
      "source": [
        "from dataclasses import dataclass\n"
      ]
    },
    {
      "cell_type": "code",
      "execution_count": null,
      "id": "b78428aa-7ac8-4988-9f0f-8ba1a7e61647",
      "metadata": {},
      "outputs": [],
      "source": [
        "@dataclass\n",
        "class Countdown:\n",
        "    start: int\n",
        "\n",
        "    def count_throw(\n",
        "    "
      ]
    },
    {
      "cell_type": "code",
      "execution_count": null,
      "id": "c6d32cb3-c7bc-4c0f-b604-074853be8cdb",
      "metadata": {},
      "outputs": [],
      "source": [
        "print(sys.path)"
      ]
    },
    {
      "cell_type": "code",
      "execution_count": null,
      "id": "4683354a-b475-4352-a7da-10db23f8ee24",
      "metadata": {},
      "outputs": [],
      "source": []
    }
  ],
  "metadata": {
    "kernelspec": {
      "display_name": "Python 3 (ipykernel)",
      "language": "python",
      "name": "python3"
    },
    "language_info": {
      "codemirror_mode": {
        "name": "ipython",
        "version": 3
      },
      "file_extension": ".py",
      "mimetype": "text/x-python",
      "name": "python",
      "nbconvert_exporter": "python",
      "pygments_lexer": "ipython3",
      "version": "3.13.2"
    }
  },
  "nbformat": 4,
  "nbformat_minor": 5
}
