{
 "cells": [
  {
   "cell_type": "code",
   "execution_count": 180,
   "id": "07aa36e1-eb04-44d9-8503-a96b3d14d637",
   "metadata": {},
   "outputs": [],
   "source": [
    "from pydantic import BaseModel\n",
    "from typing import List, Dict, Tuple\n",
    "import sys\n",
    "from enum import Enum\n",
    "import requests\n",
    "import random"
   ]
  },
  {
   "cell_type": "code",
   "execution_count": 181,
   "id": "5a14b55f-4683-4bcc-aa9c-4280f0120e29",
   "metadata": {},
   "outputs": [],
   "source": [
    "# Scoring Radii\n",
    "\n",
    "class DartboardRadius(Enum):\n",
    "    \"\"\"Enum representing the radius thresholds for different dartboard scoring areas.\"\"\"\n",
    "    INNER_BULL = 0.025\n",
    "    OUTER_BULL = 0.065\n",
    "    INNER_TRIPLE = 0.40\n",
    "    OUTER_TRIPLE = 0.43\n",
    "    INNER_DOUBLE = 0.65\n",
    "    OUTER_DOUBLE = 0.68\n",
    "\n",
    "# Scores / Scoring Multipliers\n",
    "class ScoreMultipliers(Enum):\n",
    "    SINGLE = 1\n",
    "    DOUBLE = 2\n",
    "    TRIPLE = 3\n",
    "    INNER = 50\n",
    "    OUTER = 25\n",
    "\n",
    "# Dartboard segment definitions\n",
    "SEGMENTS = [6, 13, 4, 18, 1, 20, 5, 12, 9, 14, 11, 8, 16, 7, 19, 3, 17, 2, 15, 10]\n",
    "SEGMENT_ANGLE = 360 / len(SEGMENTS)  # 18 degrees per segment\n",
    "ANGLE_OFFSET = 9  # Align 0° to the midpoint of segment 6\n"
   ]
  },
  {
   "cell_type": "code",
   "execution_count": 168,
   "id": "55dba29f-ee2d-448b-9d48-4300fbeba825",
   "metadata": {},
   "outputs": [],
   "source": [
    "class Throw(BaseModel):\n",
    "    target: int | None = None\n",
    "    radius: float\n",
    "    angle: float\n",
    "\n",
    "    @classmethod\n",
    "    def from_score(cls, zone: int, multiplier: int):\n",
    "        radius = 0.5\n",
    "        return cls(radius=radius, angle=angle)\n",
    "\n",
    "class ThrowTriplet(BaseModel):\n",
    "    throws: list[Throw]\n",
    "\n",
    "class ThrowScore(BaseModel):\n",
    "    multiplier: float\n",
    "    zone: int\n",
    "    score: int"
   ]
  },
  {
   "cell_type": "code",
   "execution_count": null,
   "id": "3e49701c-4f66-47a5-83e7-84a202d364aa",
   "metadata": {},
   "outputs": [],
   "source": [
    "class Throw(BaseModel):\n",
    "    target: int | None = None\n",
    "    radius: float\n",
    "    angle: float\n",
    "\n",
    "    @classmethod\n",
    "    def from_score(cls, zone: int, multiplier: ScoreMultiplier):\n",
    "        if (multiplier == multiplier.INNER_BULL):\n",
    "            zone = int(random.uniform(1, 20))\n",
    "            radius = random.uniform(0, DartboardRadius.INNER_BULL.value)\n",
    "        \n",
    "\n",
    "        if multiplier == multiplier.OUTER_BULLSEYE:\n",
    "            zone = int(random.uniform(1, 20))\n",
    "            radius = random.uniform(0, DartboardRadius.INNER_BULL.value)\n",
    "        angle = inverse_map_segment_to_angle(zone)\n",
    "\n",
    "        return cls(radius=radius, angle=angle)"
   ]
  },
  {
   "cell_type": "code",
   "execution_count": 187,
   "id": "e38d4cd3-8347-4f31-a3a1-f19ccf739029",
   "metadata": {},
   "outputs": [
    {
     "data": {
      "text/plain": [
       "0.0020706040646339685"
      ]
     },
     "execution_count": 187,
     "metadata": {},
     "output_type": "execute_result"
    }
   ],
   "source": [
    "random.uniform(0, DartboardRadius.INNER_BULL.value)"
   ]
  },
  {
   "cell_type": "code",
   "execution_count": 173,
   "id": "5c2b6135-1d3b-4068-95b9-0e061aa0772c",
   "metadata": {},
   "outputs": [],
   "source": [
    "\n",
    "def map_angle_to_segment(angle: float) -> int:\n",
    "    \"\"\"\n",
    "    Maps a given angle to a dartboard segment.\n",
    "\n",
    "    Parameters\n",
    "    ----------\n",
    "    angle : float\n",
    "        The angle of the dart throw in degrees.\n",
    "\n",
    "    Returns\n",
    "    -------\n",
    "    int\n",
    "        The corresponding dartboard segment number.\n",
    "    \"\"\"\n",
    "    adjusted_angle = (angle + ANGLE_OFFSET) % 360\n",
    "    segment_index = int(adjusted_angle // SEGMENT_ANGLE) % len(SEGMENTS)\n",
    "    return SEGMENTS[segment_index]\n",
    "\n",
    "def inverse_map_segment_to_angle(zone: int) -> float:\n",
    "    \"\"\"\n",
    "    Given a dartboard segment (zone), return a random angle that would fall within that segment.\n",
    "\n",
    "    Parameters\n",
    "    ----------\n",
    "    zone : int\n",
    "        The target dartboard segment (1-20).\n",
    "\n",
    "    Returns\n",
    "    -------\n",
    "    float\n",
    "        A random angle within the valid range for the given segment.\n",
    "    \"\"\"\n",
    "    if zone not in SEGMENTS:\n",
    "        raise ValueError(f\"Invalid dartboard zone: {zone}\")\n",
    "\n",
    "    segment_index = SEGMENTS.index(zone)\n",
    "    min_angle = segment_index * SEGMENT_ANGLE - ANGLE_OFFSET\n",
    "    max_angle = (segment_index + 1) * SEGMENT_ANGLE - ANGLE_OFFSET\n",
    "\n",
    "    # Ensure angles wrap correctly around 360 degrees\n",
    "    min_angle %= 360\n",
    "    max_angle %= 360\n",
    "\n",
    "    # Generate a random angle within the valid segment range\n",
    "    if min_angle > max_angle:  # Handle wrap-around case (e.g., segment near 0°)\n",
    "        angle = random.uniform(min_angle, max_angle + 360) % 360\n",
    "    else:\n",
    "        angle = random.uniform(min_angle, max_angle)\n",
    "\n",
    "    return angle\n"
   ]
  },
  {
   "cell_type": "code",
   "execution_count": 178,
   "id": "4bfb0183-46f1-405e-85e9-6b35d68579ad",
   "metadata": {},
   "outputs": [
    {
     "data": {
      "text/plain": [
       "0.513297312670815"
      ]
     },
     "execution_count": 178,
     "metadata": {},
     "output_type": "execute_result"
    }
   ],
   "source": [
    "random.uniform(0.5,0.6)"
   ]
  },
  {
   "cell_type": "code",
   "execution_count": 82,
   "id": "99d0d274-faa7-4218-8a5b-07f058e3c20f",
   "metadata": {},
   "outputs": [],
   "source": [
    "\n",
    "def calculate_score(throw: Throw) -> ThrowScore:\n",
    "    \"\"\"\n",
    "    Computes the score of a dart throw based on its radius and angle.\n",
    "\n",
    "    Parameters\n",
    "    ----------\n",
    "    throw : Throw\n",
    "        The dart throw object containing radius and angle.\n",
    "\n",
    "    Returns\n",
    "    -------\n",
    "    ThrowScore\n",
    "        The calculated score, multiplier, and zone.\n",
    "    \"\"\"\n",
    "    angle = throw.angle % 360  # Normalize angle\n",
    "    radius = throw.radius\n",
    "\n",
    "    if radius <= INNER_BULL_RADIUS:\n",
    "        return ThrowScore(multiplier=SINGLE, zone=\"Inner Bullseye\", score=50)\n",
    "\n",
    "    if radius <= OUTER_BULL_RADIUS:\n",
    "        return ThrowScore(multiplier=SINGLE, zone=\"Outer Bullseye\", score=25)\n",
    "\n",
    "    segment = map_angle_to_segment(angle)\n",
    "\n",
    "    if INNER_TRIPLE_RADIUS <= radius <= OUTER_TRIPLE_RADIUS:\n",
    "        return ThrowScore(multiplier=TRIPLE, zone=segment, score=segment * TRIPLE)\n",
    "\n",
    "    if INNER_DOUBLE_RADIUS <= radius <= OUTER_DOUBLE_RADIUS:\n",
    "        return ThrowScore(multiplier=DOUBLE, zone=segment, score=segment * DOUBLE)\n",
    "\n",
    "    if radius > OUTER_DOUBLE_RADIUS:\n",
    "        return ThrowScore(multiplier=SINGLE, zone=\"Miss\", score=0)\n",
    "\n",
    "    return ThrowScore(multiplier=SINGLE, zone=segment, score=segment * SINGLE)\n"
   ]
  },
  {
   "cell_type": "code",
   "execution_count": 159,
   "id": "a3cb6dc5-9a53-4257-8904-a41372155cba",
   "metadata": {},
   "outputs": [],
   "source": [
    "class AroundTheWorld:\n",
    "    def __init__(self, mode: str, darts_per_target: int):\n",
    "        \"\"\"\n",
    "        Initialize the game with the scoring mode and darts per target.\n",
    "\n",
    "        Parameters\n",
    "        ----------\n",
    "        mode : str\n",
    "            The scoring mode (\"singles\", \"doubles\", \"triples\").\n",
    "        darts_per_target : int\n",
    "            Number of darts required per target (1 or 3).\n",
    "        \"\"\"\n",
    "        # TODO - change the mode to an ENUM in constants\n",
    "        if mode not in {\"singles\", \"doubles\", \"triples\"}:\n",
    "            raise ValueError(\"Mode must be one of 'singles', 'doubles', or 'triples'.\")\n",
    "        if darts_per_target not in {1, 2, 3}:\n",
    "            raise ValueError(\"Darts per target must be 1 or 3.\")\n",
    "\n",
    "        self.mode = mode\n",
    "        self.darts_per_target = darts_per_target\n",
    "        self.current_target = 1\n",
    "        self.throws_record: list[ThrowTriplet] = []  # Records all ThrowTriplets\n",
    "        self.completed_targets: list[int] = []  # List of completed targets\n",
    "\n",
    "\n",
    "\n",
    "    def _check_target(self, throw):\n",
    "        return\n",
    "    \n",
    "    def process_throw(self, triplet: ThrowTriplet):\n",
    "        self.throws_record.append(triplet)\n",
    "        scores = [calculate_score(throw) for throw in triplet.throws]\n",
    "        if self.darts_per_target == 1:\n",
    "            for score in scores:\n",
    "                if score.zone == self.current_target:\n",
    "                    self.completed_targets.append(self.current_target)\n",
    "                    self.current_target += 1\n",
    "        else: \n",
    "            if zones.count(self.current_target) == self.darts_per_target:\n",
    "                self.completed_targets.append(self.current_target)\n",
    "                self.current_target += 1\n",
    "\n",
    "        self.throws_record.append(triplet)\n",
    "        if self.current_target > 20:\n",
    "            print(\"YOU WIN - GOOD JOB\")\n",
    "\n",
    "\n",
    "        \n",
    "\n",
    "    # def _get_required_multiplier(self) -> int:\n",
    "    #     \"\"\"\n",
    "    #     Get the multiplier required for the current mode.\n",
    "\n",
    "    #     Returns\n",
    "    #     -------\n",
    "    #     int\n",
    "    #         The multiplier (1, 2, or 3) corresponding to singles, doubles, or triples.\n",
    "    #     \"\"\"\n",
    "    #     return {\"singles\": 1, \"doubles\": 2, \"triples\": 3}[self.mode]\n",
    "\n",
    "    # def _is_target_achieved(self, throw_triplet: ThrowTriplet) -> bool:\n",
    "    #     \"\"\"\n",
    "    #     Check if the target in the given ThrowTriplet is achieved.\n",
    "\n",
    "    #     Parameters\n",
    "    #     ----------\n",
    "    #     throw_triplet : ThrowTriplet\n",
    "    #         The set of throws to evaluate.\n",
    "\n",
    "    #     Returns\n",
    "    #     -------\n",
    "    #     bool\n",
    "    #         True if the target is achieved, False otherwise.\n",
    "    #     \"\"\"\n",
    "    #     required_target = int(throw_triplet.target)\n",
    "    #     hits = sum(\n",
    "    #         1 for throw in throw_triplet.throws if self._is_hit(throw, required_target)\n",
    "    #     )\n",
    "    #     return hits >= self.darts_per_target\n",
    "\n",
    "    # def _is_hit(self, throw: Throw, target: int) -> bool:\n",
    "    #     \"\"\"\n",
    "    #     Determine if a single throw hits the target with the required multiplier.\n",
    "\n",
    "    #     Parameters\n",
    "    #     ----------\n",
    "    #     throw : Throw\n",
    "    #         The dart throw to evaluate.\n",
    "    #     target : int\n",
    "    #         The target number.\n",
    "\n",
    "    #     Returns\n",
    "    #     -------\n",
    "    #     bool\n",
    "    #         True if the throw is a hit, False otherwise.\n",
    "    #     \"\"\"\n",
    "    #     # Placeholder logic: Replace with actual logic based on radius and angle\n",
    "    #     # This assumes a simplified function where angle determines the segment\n",
    "    #     segment = round((throw.angle + 360) % 360 / 18) + 1\n",
    "    #     return segment == target\n",
    "\n",
    "    # def process_triplet(self, throw_triplet: ThrowTriplet) -> None:\n",
    "    #     \"\"\"\n",
    "    #     Process a set of three throws and update the game state.\n",
    "\n",
    "    #     Parameters\n",
    "    #     ----------\n",
    "    #     throw_triplet : ThrowTriplet\n",
    "    #         The triplet of throws to process.\n",
    "    #     \"\"\"\n",
    "    #     if int(throw_triplet.target) != self.current_target:\n",
    "    #         raise ValueError(f\"Incorrect target. Current target is {self.current_target}.\")\n",
    "\n",
    "    #     self.throws_record.append(throw_triplet)\n",
    "\n",
    "    #     if self._is_target_achieved(throw_triplet):\n",
    "    #         self.completed_targets.append(self.current_target)\n",
    "    #         print(f\"Target {self.current_target} achieved!\")\n",
    "    #         self.current_target += 1  # Advance to the next target\n",
    "\n",
    "    # def is_game_over(self) -> bool:\n",
    "    #     \"\"\"\n",
    "    #     Check if the game is over.\n",
    "\n",
    "    #     Returns\n",
    "    #     -------\n",
    "    #     bool\n",
    "    #         True if all targets are completed, False otherwise.\n",
    "    #     \"\"\"\n",
    "    #     return self.current_target > 20\n",
    "\n",
    "    # def get_game_status(self) -> Dict:\n",
    "    #     \"\"\"\n",
    "    #     Get the current status of the game.\n",
    "\n",
    "    #     Returns\n",
    "    #     -------\n",
    "    #     dict\n",
    "    #         A dictionary containing game status.\n",
    "    #     \"\"\"\n",
    "    #     return {\n",
    "    #         \"current_target\": self.current_target,\n",
    "    #         \"completed_targets\": self.completed_targets,\n",
    "    #         \"throws_record\": self.throws_record,\n",
    "    #         \"mode\": self.mode,\n",
    "    #         \"darts_per_target\": self.darts_per_target,\n",
    "    #     }\n"
   ]
  },
  {
   "cell_type": "code",
   "execution_count": 165,
   "id": "31e2849a-531d-43a7-9759-115ef52aa157",
   "metadata": {},
   "outputs": [],
   "source": [
    "triplet = ThrowTriplet( \n",
    "    throws=[\n",
    "        Throw(radius=0.3, angle=79),  # First throw\n",
    "        Throw(radius=0.5, angle=50.0),  # Second throw\n",
    "        Throw(radius=0.2, angle=135.0)  # Third throw\n",
    "    ]\n",
    ")"
   ]
  },
  {
   "cell_type": "code",
   "execution_count": 166,
   "id": "f31215ab-4692-4f31-b1a9-abb5e16a0d92",
   "metadata": {},
   "outputs": [],
   "source": [
    "t = Throw(radius=0.3, angle=79)"
   ]
  },
  {
   "cell_type": "code",
   "execution_count": 167,
   "id": "c85f5b3b-c2f6-4d66-8e5a-ca64f0edd70c",
   "metadata": {},
   "outputs": [
    {
     "data": {
      "text/plain": [
       "{'target': None, 'radius': 0.3, 'angle': 79.0}"
      ]
     },
     "execution_count": 167,
     "metadata": {},
     "output_type": "execute_result"
    }
   ],
   "source": [
    "vars(t)"
   ]
  },
  {
   "cell_type": "code",
   "execution_count": 162,
   "id": "e82e8e36-fbbe-416b-8f12-2e672cda9382",
   "metadata": {},
   "outputs": [
    {
     "data": {
      "text/plain": [
       "{'radius': 0.4, 'angle': 79.0}"
      ]
     },
     "execution_count": 162,
     "metadata": {},
     "output_type": "execute_result"
    }
   ],
   "source": []
  },
  {
   "cell_type": "code",
   "execution_count": 154,
   "id": "7e7f1474-ffd2-4884-90a6-85a38e7ffa39",
   "metadata": {},
   "outputs": [],
   "source": [
    "game = AroundTheWorld(mode='singles', darts_per_target=2)"
   ]
  },
  {
   "cell_type": "code",
   "execution_count": 156,
   "id": "c4a5161d-1462-4361-8f22-f683f36677dc",
   "metadata": {},
   "outputs": [
    {
     "name": "stdout",
     "output_type": "stream",
     "text": [
      "1\n"
     ]
    }
   ],
   "source": [
    "game.process_throw(triplet)\n",
    "print(game.current_target)"
   ]
  },
  {
   "cell_type": "code",
   "execution_count": 142,
   "id": "46e06662-a5db-4ec5-b4d3-95d7d9197c19",
   "metadata": {},
   "outputs": [],
   "source": [
    "zones = [calculate_score(throw).zone for throw in triplet.throws]"
   ]
  },
  {
   "cell_type": "code",
   "execution_count": 143,
   "id": "00382125-3ad3-474b-998e-91e1027bfbf3",
   "metadata": {},
   "outputs": [
    {
     "data": {
      "text/plain": [
       "[1, 18, 9]"
      ]
     },
     "execution_count": 143,
     "metadata": {},
     "output_type": "execute_result"
    }
   ],
   "source": [
    "zones"
   ]
  },
  {
   "cell_type": "code",
   "execution_count": 109,
   "id": "f308de82-9dfb-42a2-8a35-096ef6313baf",
   "metadata": {},
   "outputs": [
    {
     "name": "stdout",
     "output_type": "stream",
     "text": [
      "current target: 1\n",
      "current target: 1\n",
      "current target: 2\n"
     ]
    }
   ],
   "source": [
    "current = 1\n",
    "\n",
    "for zone in zones:\n",
    "    print(f\"current target: {current}\")\n",
    "    if zone == current:\n",
    "        current += 1\n",
    "\n"
   ]
  },
  {
   "cell_type": "code",
   "execution_count": 2,
   "id": "4fda2213-49c0-4cdb-b8b9-7a30a73712b1",
   "metadata": {},
   "outputs": [],
   "source": [
    "import requests"
   ]
  },
  {
   "cell_type": "code",
   "execution_count": 10,
   "id": "e3b2e5ec-03f6-49f5-bd31-26df94683587",
   "metadata": {},
   "outputs": [
    {
     "name": "stdout",
     "output_type": "stream",
     "text": [
      "Response JSON: {'multiplier': 3, 'zone': 20, 'score': 60}\n"
     ]
    }
   ],
   "source": [
    "# API endpoint URL\n",
    "url = \"http://127.0.0.1:8000/scores/throw\"\n",
    "\n",
    "# Send a GET request to the endpoint\n",
    "response = requests.get(url, params={'radius':0.6, 'angle':90})\n",
    "\n",
    "# Check the response\n",
    "if response.status_code == 200:\n",
    "    # Success: Print the response JSON\n",
    "    print(\"Response JSON:\", response.json())\n",
    "else:\n",
    "    # Error: Print the status code and error message\n",
    "    print(\"Error:\", response.status_code, response.text)"
   ]
  },
  {
   "cell_type": "code",
   "execution_count": null,
   "id": "eb219ce3-2048-4889-8f2e-36f7c221e8a0",
   "metadata": {},
   "outputs": [],
   "source": []
  },
  {
   "cell_type": "code",
   "execution_count": null,
   "id": "f7ab8c02-682a-4dbf-8ba2-12584515fdf8",
   "metadata": {},
   "outputs": [],
   "source": []
  }
 ],
 "metadata": {
  "kernelspec": {
   "display_name": "Python 3 (ipykernel)",
   "language": "python",
   "name": "python3"
  },
  "language_info": {
   "codemirror_mode": {
    "name": "ipython",
    "version": 3
   },
   "file_extension": ".py",
   "mimetype": "text/x-python",
   "name": "python",
   "nbconvert_exporter": "python",
   "pygments_lexer": "ipython3",
   "version": "3.11.5"
  }
 },
 "nbformat": 4,
 "nbformat_minor": 5
}
