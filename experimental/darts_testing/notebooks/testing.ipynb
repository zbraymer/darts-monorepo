{
 "cells": [
  {
   "cell_type": "code",
   "execution_count": 8,
   "id": "5be6b260-d269-4554-8ccb-638b78affeea",
   "metadata": {},
   "outputs": [],
   "source": [
    "import requests\n",
    "from pydantic import BaseModel"
   ]
  },
  {
   "cell_type": "code",
   "execution_count": 13,
   "id": "34950393-5cab-48d0-940e-858d0e828d3a",
   "metadata": {},
   "outputs": [
    {
     "data": {
      "text/plain": [
       "PolarCoordinates(radius=0.41, angle=90.0)"
      ]
     },
     "execution_count": 13,
     "metadata": {},
     "output_type": "execute_result"
    }
   ],
   "source": [
    "# Define the input data structure\n",
    "class PolarCoordinates(BaseModel):\n",
    "    radius: float  # Normalized radius (0.0 to 1.0)\n",
    "    angle: float  # Angle in degrees (-180 to 180)\n",
    "\n",
    "PolarCoordinates(radius=0.41,angle=90.0)"
   ]
  },
  {
   "cell_type": "code",
   "execution_count": 42,
   "id": "1f1721bb-1de4-4d4c-b83e-fa4cd6652862",
   "metadata": {},
   "outputs": [],
   "source": [
    "# Define the URL of your FastAPI endpoint\n",
    "score_endpoint = 'calculate-score'\n",
    "url = \"http://localhost:8000/\"  # Change this to your actual API URL\n",
    "\n",
    "\n"
   ]
  },
  {
   "cell_type": "code",
   "execution_count": 46,
   "id": "34852d14-85a1-4c4e-b43b-d0bc7a8553af",
   "metadata": {},
   "outputs": [
    {
     "name": "stdout",
     "output_type": "stream",
     "text": [
      "{\"zone\":\"Triple Ring\",\"score\":60}\n"
     ]
    }
   ],
   "source": [
    "# Send the GET request to the FastAPI API\n",
    "response = requests.get(f\"{url}{score_endpoint}\", params={'radius':0.41, 'angle':90.0})\n",
    "print(response.text)"
   ]
  },
  {
   "cell_type": "code",
   "execution_count": 32,
   "id": "fe15df6f-c3dc-4952-bae6-946102df1a41",
   "metadata": {},
   "outputs": [],
   "source": [
    "def map_angle_to_segment(angle):\n",
    "    # Define the dartboard segments in their correct order\n",
    "    segments = [6, 13, 4, 18, 1, 20, 5, 12, 9, 14, 11, 8, 16, 7, 19, 3, 17, 2, 15, 10]\n",
    "    segment_angle = 360 / 20  # Each segment spans 18 degrees\n",
    "\n",
    "    # Adjust angle by 9 degrees to align 0 degrees with the midpoint of segment 6\n",
    "    adjusted_angle = (angle + 9) % 360\n",
    "\n",
    "    # Determine the segment index\n",
    "    segment_index = int(adjusted_angle // segment_angle) % 20\n",
    "    return segments[segment_index]"
   ]
  },
  {
   "cell_type": "code",
   "execution_count": 36,
   "id": "45b044ec-52fd-4699-b56b-4b795d95faae",
   "metadata": {},
   "outputs": [
    {
     "data": {
      "text/plain": [
       "20"
      ]
     },
     "execution_count": 36,
     "metadata": {},
     "output_type": "execute_result"
    }
   ],
   "source": [
    "map_angle_to_segment(98.9)"
   ]
  },
  {
   "cell_type": "code",
   "execution_count": 40,
   "id": "b8a08776-c2d6-452e-9cce-6e288eef6219",
   "metadata": {},
   "outputs": [
    {
     "name": "stdout",
     "output_type": "stream",
     "text": [
      "{'zone': 'Double Ring', 'score': 40}\n"
     ]
    }
   ],
   "source": [
    "radius = 0.6587\n",
    "angle = 98.9\n",
    "\n",
    "# Define scoring zones\n",
    "if radius <= 0.025:\n",
    "    print( {\"zone\": \"Inner Bullseye\", \"score\": 50})\n",
    "if radius <= 0.065:\n",
    "    print( {\"zone\": \"Outer Bullseye\", \"score\": 25})\n",
    "if 0.40 <= radius <= 0.43:\n",
    "    print( {\"zone\": \"Triple Ring\", \"score\": map_angle_to_segment(angle) * 3})\n",
    "if 0.65 <= radius <= 0.68:\n",
    "    print( {\"zone\": \"Double Ring\", \"score\": map_angle_to_segment(angle) * 2})\n",
    "if radius > 1.0:\n",
    "    print( {\"zone\": \"Miss\", \"score\": 0})"
   ]
  },
  {
   "cell_type": "code",
   "execution_count": null,
   "id": "1dfed26c-1c18-4eaf-9004-c4a0d6969979",
   "metadata": {},
   "outputs": [],
   "source": []
  },
  {
   "cell_type": "code",
   "execution_count": null,
   "id": "fa8c34f9-de9f-4858-9a61-f360f7928de3",
   "metadata": {},
   "outputs": [],
   "source": []
  }
 ],
 "metadata": {
  "kernelspec": {
   "display_name": "Python 3 (ipykernel)",
   "language": "python",
   "name": "python3"
  },
  "language_info": {
   "codemirror_mode": {
    "name": "ipython",
    "version": 3
   },
   "file_extension": ".py",
   "mimetype": "text/x-python",
   "name": "python",
   "nbconvert_exporter": "python",
   "pygments_lexer": "ipython3",
   "version": "3.11.5"
  }
 },
 "nbformat": 4,
 "nbformat_minor": 5
}
